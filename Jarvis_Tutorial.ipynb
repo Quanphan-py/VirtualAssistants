{
 "cells": [
  {
   "cell_type": "code",
   "execution_count": 1,
   "metadata": {},
   "outputs": [],
   "source": [
    "import os\n",
    "import playsound\n",
    "import speech_recognition as sr\n",
    "import time\n",
    "import sys\n",
    "import ctypes\n",
    "import wikipedia\n",
    "import datetime\n",
    "import json\n",
    "import re\n",
    "import webbrowser\n",
    "import smtplib\n",
    "import requests\n",
    "import urllib\n",
    "import urllib.request as urllib2\n",
    "from selenium import webdriver\n",
    "from selenium.webdriver.common.keys import Keys\n",
    "from webdriver_manager.chrome import ChromeDriverManager\n",
    "from time import strftime\n",
    "from gtts import gTTS\n",
    "from youtube_search import YoutubeSearch"
   ]
  },
  {
   "cell_type": "code",
   "execution_count": 2,
   "metadata": {},
   "outputs": [
    {
     "name": "stderr",
     "output_type": "stream",
     "text": [
      "\n",
      "\n",
      "====== WebDriver manager ======\n",
      "Current google-chrome version is 90.0.4430\n",
      "Get LATEST driver version for 90.0.4430\n",
      "Get LATEST driver version for 90.0.4430\n",
      "Trying to download new driver from https://chromedriver.storage.googleapis.com/90.0.4430.24/chromedriver_win32.zip\n",
      "Driver has been saved in cache [C:\\Users\\thanh\\.wdm\\drivers\\chromedriver\\win32\\90.0.4430.24]\n"
     ]
    }
   ],
   "source": [
    "language = 'vi'\n",
    "path = ChromeDriverManager().install()"
   ]
  },
  {
   "cell_type": "code",
   "execution_count": 3,
   "metadata": {},
   "outputs": [],
   "source": [
    "def speak(text):\n",
    "    print(\"Bot: {}\".format(text))\n",
    "    #truyen vao text de doc len\n",
    "    tts = gTTS(text=text, lang=language, slow = False)\n",
    "    tts.save(\"sound.mp3\")\n",
    "    playsound.playsound(\"sound.mp3\", False)\n",
    "    os.remove(\"sound.mp3\")\n"
   ]
  },
  {
   "cell_type": "code",
   "execution_count": 4,
   "metadata": {},
   "outputs": [],
   "source": [
    "def get_voice():\n",
    "     r = sr.Recognizer()\n",
    "     with sr.Microphone() as source:\n",
    "        print(\"Me: \", end = '')\n",
    "        audio = r.listen(source, phrase_time_limit=5)\n",
    "        try:\n",
    "            text = r.recognize_google(audio, language=\"vi-VN\")\n",
    "            print(text)\n",
    "            return text\n",
    "        except:\n",
    "            print(\"...\")\n",
    "            return 0\n",
    "    "
   ]
  },
  {
   "cell_type": "code",
   "execution_count": 5,
   "metadata": {},
   "outputs": [],
   "source": [
    "def stop():\n",
    "    speak(\"Hẹn gặp lại bạn nhé!\")"
   ]
  },
  {
   "cell_type": "code",
   "execution_count": 6,
   "metadata": {},
   "outputs": [],
   "source": [
    "def get_text():\n",
    "    for i in range(3):\n",
    "        text = get_voice()\n",
    "        if text:\n",
    "            return text.lower()\n",
    "        elif i < 2:\n",
    "            speak(\"Bot không nghe rõ, bạn có thể nói lại không ?\")\n",
    "    time.sleep(10)\n",
    "    stop()\n",
    "    return 0"
   ]
  },
  {
   "cell_type": "code",
   "execution_count": 7,
   "metadata": {},
   "outputs": [],
   "source": [
    "def talk(name):\n",
    "    day_time = int(strftime('%H'))\n",
    "    if day_time < 12:\n",
    "        speak(\"Chào buổi sáng {}. Chúc bạn ngày mới tốt lành!\".format(name))\n",
    "    elif day_time < 18:\n",
    "        speak(\"Chào buổi chiều {}!\".format(name))\n",
    "    else:\n",
    "        speak(\"Chào buổi tối {}!\".format(name))\n",
    "    time.sleep(5)\n",
    "    speak(\"Bạn có khỏe không ?\")\n",
    "    time.sleep(3)\n",
    "    ans = get_voice()\n",
    "    if ans:\n",
    "        if \"có\" in ans:\n",
    "            speak(\"Thật là tốt!\")\n",
    "        else:\n",
    "            speak(\"Vậy à, bạn nên nghỉ ngơi đi!\")"
   ]
  },
  {
   "cell_type": "code",
   "execution_count": 8,
   "metadata": {},
   "outputs": [],
   "source": [
    "def open_website(text):\n",
    "    regex = re.search ('mở (.+)', text)\n",
    "    if regex:\n",
    "        domain = regex.group(1)\n",
    "        url = 'https://www.' + domain\n",
    "        webbrowser.open(url)\n",
    "        speak(\"Trang web của bạn đã được mở lên!\")\n",
    "        return True\n",
    "    else:\n",
    "        return False\n",
    "    "
   ]
  },
  {
   "cell_type": "code",
   "execution_count": 9,
   "metadata": {},
   "outputs": [],
   "source": [
    "def google_search(text):\n",
    "    search_for = text.split(\"kiếm\", 1)[1]\n",
    "    speak(\"Oke la\")\n",
    "    driver = webdriver.Chrome(path)\n",
    "    driver.get(\"http://www.google.com\")\n",
    "    query = driver.find_element_by_xpath(\"//input[@name='q']\")\n",
    "    query.send_keys(str(search_for))\n",
    "    query.send_keys(Keys.RETURN)"
   ]
  },
  {
   "cell_type": "code",
   "execution_count": 10,
   "metadata": {},
   "outputs": [],
   "source": [
    "def get_time(text):\n",
    "    now = datetime.datetime.now()\n",
    "    if \"giờ\" in text:\n",
    "        speak(\"Bây giờ là %d giờ %d phút\" % (now.hour, now.minute))\n",
    "    elif \"ngày\" in text:\n",
    "        speak(\"Hôm nay là ngày %d tháng %d năm %d \" % (now.day, now.month, now.year))\n",
    "    else:\n",
    "        speak(\"Bot không hiểu\")"
   ]
  },
  {
   "cell_type": "code",
   "execution_count": 16,
   "metadata": {},
   "outputs": [],
   "source": [
    "def play_youtube():\n",
    "    speak(\"Xin mời bạn chọn bài hát\")\n",
    "    time.sleep(3)\n",
    "    my_song = get_text()\n",
    "    while True:\n",
    "        result = YoutubeSearch(my_song, max_results = 10).to_dict()\n",
    "        if result:\n",
    "            break;\n",
    "    url = 'https://www.youtube.com' + result[0]['url_suffix']\n",
    "    webbrowser.open(url)\n",
    "    speak(\"Bài hát của bạn đã được mở, hãy thưởng thức nó!\")"
   ]
  },
  {
   "cell_type": "code",
   "execution_count": 17,
   "metadata": {},
   "outputs": [],
   "source": [
    "def weather():\n",
    "    speak(\"Bạn muốn xem thời tiết ở đâu ạ!\")\n",
    "    time.sleep(3)\n",
    "    url = \"http://api.openweathermap.org/data/2.5/weather?\"\n",
    "    city = get_text()\n",
    "    if not city:\n",
    "        pass\n",
    "    api_key = \"fe8d8c65cf345889139d8e545f57819a\"\n",
    "    call_url = url + \"appid=\" + api_key + \"&q=\" + city + \"&units=metric\"\n",
    "    response = requests.get(call_url)\n",
    "    data = response.json()\n",
    "    if data[\"cod\"] != \"404\":\n",
    "        city_res = data[\"main\"]\n",
    "        current_temp = city_res[\"temp\"]\n",
    "        current_pressure = city_res[\"pressure\"]\n",
    "        current_humidity = city_res[\"humidity\"]\n",
    "        sun_time  = data[\"sys\"]\n",
    "        sun_rise = datetime.datetime.fromtimestamp(sun_time[\"sunrise\"])\n",
    "        sun_set = datetime.datetime.fromtimestamp(sun_time[\"sunset\"])\n",
    "        wther = data[\"weather\"]\n",
    "        weather_des = wther[0][\"description\"]\n",
    "        now = datetime.datetime.now()\n",
    "        content = \"\"\"\n",
    "        Hôm nay là ngày {day} tháng {month} năm {year}\n",
    "        Mặt trời mọc vào {hourrise} giờ {minrise} phút\n",
    "        Mặt trời lặn vào {hourset} giờ {minset} phút\n",
    "        Nhiệt độ trung bình là {temp} độ C\n",
    "        Áp suất không khí là {pressure} héc tơ Pascal\n",
    "        Độ ẩm là {humidity}%\n",
    "        Trời hôm nay quang mây. Dự báo mưa rải rác ở một số nơi.\"\"\".format(day = now.day, month = now.month, year= now.year, hourrise = sun_rise.hour, minrise = sun_rise.minute,\n",
    "                                                                           hourset = sun_set.hour, minset = sun_set.minute, \n",
    "                                                                           temp = current_temp, pressure = current_pressure, humidity = current_humidity)\n",
    "        speak(content)\n",
    "        time.sleep(25)\n",
    "    else:\n",
    "        speak(\"Không tìm thấy thành phố!\")\n",
    "        "
   ]
  },
  {
   "cell_type": "code",
   "execution_count": 18,
   "metadata": {},
   "outputs": [],
   "source": [
    "def call_sen():\n",
    "    speak(\"Xin chào, bạn tên là gì nhỉ?\")\n",
    "    time.sleep(3)\n",
    "    name = get_text()\n",
    "    \n",
    "    if name:\n",
    "        speak(\"Chào bạn {}\".format(name))\n",
    "        time.sleep(3)\n",
    "        speak(\"Bạn cần Sen giúp gì ạ!\")\n",
    "        time.sleep(3)\n",
    "        while True:\n",
    "            text = get_text()\n",
    "            if not text:\n",
    "                break\n",
    "            elif \"trò chuyện\" in text or \"nói chuyện\" in text:\n",
    "                talk(name)\n",
    "            elif \"dừng\" in text or \"thôi\" in text:\n",
    "                stop()\n",
    "                break\n",
    "            elif \"mở\" in text:\n",
    "                if \"mở google và tìm kiếm\":\n",
    "                    google_search(text)\n",
    "                else:\n",
    "                    open_website(text)\n",
    "            elif \"ngày\" in text  or \"giờ\" in text:\n",
    "                get_time(text)\n",
    "            elif \"chơi nhạc\" in text:\n",
    "                play_youtube()\n",
    "            elif \"thời tiết\" in text:\n",
    "                weather()\n",
    "                    \n"
   ]
  },
  {
   "cell_type": "code",
   "execution_count": 21,
   "metadata": {},
   "outputs": [
    {
     "name": "stdout",
     "output_type": "stream",
     "text": [
      "Bot: Xin chào, bạn tên là gì nhỉ?\n",
      "Me: ...\n",
      "Bot: Bot không nghe rõ, bạn có thể nói lại không ?\n",
      "Me: ...\n",
      "Bot: Bot không nghe rõ, bạn có thể nói lại không ?\n",
      "Me: hàng\n",
      "Bot: Chào bạn hàng\n",
      "Bot: Bạn cần Sen giúp gì ạ!\n",
      "Me: Google và tìm kiếm\n",
      "Me: Mở Google và tìm kiếm\n",
      "Bot: Oke la\n",
      "Me: ...\n",
      "Bot: Bot không nghe rõ, bạn có thể nói lại không ?\n",
      "Me: Mở Google Mở Google tìm kiếm con chó\n",
      "Bot: Oke la\n",
      "Me: ...\n",
      "Bot: Bot không nghe rõ, bạn có thể nói lại không ?\n",
      "Me: mỗi lần sau\n",
      "Me: thôi xin lỗi\n",
      "Bot: Hẹn gặp lại bạn nhé!\n"
     ]
    }
   ],
   "source": [
    "call_sen()"
   ]
  },
  {
   "cell_type": "code",
   "execution_count": null,
   "metadata": {},
   "outputs": [],
   "source": []
  }
 ],
 "metadata": {
  "kernelspec": {
   "display_name": "Python 3",
   "language": "python",
   "name": "python3"
  },
  "language_info": {
   "codemirror_mode": {
    "name": "ipython",
    "version": 3
   },
   "file_extension": ".py",
   "mimetype": "text/x-python",
   "name": "python",
   "nbconvert_exporter": "python",
   "pygments_lexer": "ipython3",
   "version": "3.8.5"
  }
 },
 "nbformat": 4,
 "nbformat_minor": 4
}
