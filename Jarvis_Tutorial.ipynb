{
 "cells": [
  {
   "cell_type": "code",
   "execution_count": 1,
   "metadata": {},
   "outputs": [],
   "source": [
    "import os\n",
    "import playsound\n",
    "import speech_recognition as sr\n",
    "import time\n",
    "import sys\n",
    "import ctypes\n",
    "import wikipedia\n",
    "import datetime\n",
    "import json\n",
    "import re\n",
    "import webbrowser\n",
    "import smtplib\n",
    "import requests\n",
    "import urllib\n",
    "import urllib.request as urllib2\n",
    "from selenium import webdriver\n",
    "from selenium.webdriver.common.keys import Keys\n",
    "from webdriver_manager.chrome import ChromeDriverManager\n",
    "from time import strftime\n",
    "from gtts import gTTS\n",
    "from youtube_search import YoutubeSearch"
   ]
  },
  {
   "cell_type": "code",
   "execution_count": 2,
   "metadata": {},
   "outputs": [],
   "source": [
    "language = 'vi'"
   ]
  },
  {
   "cell_type": "code",
   "execution_count": 3,
   "metadata": {},
   "outputs": [],
   "source": [
    "def speak(text):\n",
    "    print(\"Bot: {}\".format(text))\n",
    "    #truyen vao text de doc len\n",
    "    tts = gTTS(text=text, lang=language, slow = False)\n",
    "    tts.save(\"sound.mp3\")\n",
    "    playsound.playsound(\"sound.mp3\", False)\n",
    "    os.remove(\"sound.mp3\")\n"
   ]
  },
  {
   "cell_type": "code",
   "execution_count": 4,
   "metadata": {},
   "outputs": [],
   "source": [
    "def get_voice():\n",
    "     r = sr.Recognizer()\n",
    "     with sr.Microphone() as source:\n",
    "        print(\"Me: \", end = '')\n",
    "        audio = r.listen(source, phrase_time_limit=5)\n",
    "        try:\n",
    "            text = r.recognize_google(audio, language=\"vi-VN\")\n",
    "            print(text)\n",
    "            return text\n",
    "        except:\n",
    "            print(\"...\")\n",
    "            return 0\n",
    "    "
   ]
  },
  {
   "cell_type": "code",
   "execution_count": 5,
   "metadata": {},
   "outputs": [],
   "source": [
    "def stop():\n",
    "    speak(\"Hẹn gặp lại bạn nhé!\")"
   ]
  },
  {
   "cell_type": "code",
   "execution_count": 7,
   "metadata": {},
   "outputs": [],
   "source": [
    "def get_text():\n",
    "    for i in range(3):\n",
    "        text = get_voice()\n",
    "        if text:\n",
    "            return text.lower()\n",
    "        elif i < 2:\n",
    "            speak(\"Bot không nghe rõ, bạn có thể nói lại không ?\")\n",
    "    time.sleep(10)\n",
    "    stop()\n",
    "    return 0"
   ]
  },
  {
   "cell_type": "code",
   "execution_count": 11,
   "metadata": {},
   "outputs": [],
   "source": [
    "def talk(name):\n",
    "    day_time = int(strftime('%H'))\n",
    "    if day_time < 12:\n",
    "        speak(\"Chào buổi sáng {}. Chúc bạn ngày mới tốt lành!\".format(name))\n",
    "    elif day_time < 18:\n",
    "        speak(\"Chào buổi chiều {}!\".format(name))\n",
    "    else:\n",
    "        speak(\"Chào buổi tối {}!\".format(name))\n",
    "    time.sleep(5)\n",
    "    speak(\"Bạn có khỏe không ?\")\n",
    "    time.sleep(3)\n",
    "    ans = get_voice()\n",
    "    if ans:\n",
    "        if \"có\" in ans:\n",
    "            speak(\"Thật là tốt!\")\n",
    "        else:\n",
    "            speak(\"Vậy à, bạn nên nghỉ ngơi đi!\")"
   ]
  },
  {
   "cell_type": "code",
   "execution_count": 12,
   "metadata": {},
   "outputs": [],
   "source": [
    "def call_sen():\n",
    "    speak(\"Xin chào, bạn tên là gì nhỉ?\")\n",
    "    time.sleep(3)\n",
    "    name = get_text()\n",
    "    \n",
    "    if name:\n",
    "        speak(\"Chào bạn {}\".format(name))\n",
    "        time.sleep(3)\n",
    "        speak(\"Bạn cần Sen giúp gì ạ!\")\n",
    "        time.sleep(3)\n",
    "        while True:\n",
    "            text = get_text()\n",
    "            if not text:\n",
    "                break\n",
    "            elif \"trò chuyện\" in text or \"nói chuyện\" in text:\n",
    "                talk(name)\n",
    "            elif \"dừng\" in text or \"thôi\" in text:\n",
    "                stop()\n",
    "                break\n"
   ]
  },
  {
   "cell_type": "code",
   "execution_count": 13,
   "metadata": {},
   "outputs": [
    {
     "name": "stdout",
     "output_type": "stream",
     "text": [
      "Bot: Xin chào, bạn tên là gì nhỉ?\n",
      "Me: Thành\n",
      "Bot: Chào bạn thành\n",
      "Bot: Bạn cần Sen giúp gì ạ!\n",
      "Me: câu chuyện\n",
      "Me: trò chuyện\n",
      "Bot: Chào buổi chiều thành!\n",
      "Bot: Bạn có khỏe không ?\n",
      "Me: ...\n",
      "Me: Hồng\n",
      "Me: không\n",
      "Me: nó không nói gì nữa dừng dừng dừng dừng dừng dừng\n",
      "Bot: Hẹn gặp lại bạn nhé!\n"
     ]
    }
   ],
   "source": [
    "call_sen()"
   ]
  },
  {
   "cell_type": "code",
   "execution_count": null,
   "metadata": {},
   "outputs": [],
   "source": []
  }
 ],
 "metadata": {
  "kernelspec": {
   "display_name": "Python 3",
   "language": "python",
   "name": "python3"
  },
  "language_info": {
   "codemirror_mode": {
    "name": "ipython",
    "version": 3
   },
   "file_extension": ".py",
   "mimetype": "text/x-python",
   "name": "python",
   "nbconvert_exporter": "python",
   "pygments_lexer": "ipython3",
   "version": "3.8.5"
  }
 },
 "nbformat": 4,
 "nbformat_minor": 4
}
